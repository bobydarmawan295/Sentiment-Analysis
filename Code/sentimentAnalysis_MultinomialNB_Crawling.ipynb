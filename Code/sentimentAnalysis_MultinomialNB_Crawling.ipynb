{
 "cells": [
  {
   "cell_type": "code",
   "execution_count": 1,
   "id": "128cb8b4",
   "metadata": {},
   "outputs": [],
   "source": [
    "# Mengimpor library untuk crawling data\n",
    "import tweepy as tw\n",
    "import csv\n",
    "import pandas as pd\n",
    "import re\n",
    "from textblob import TextBlob"
   ]
  },
  {
   "cell_type": "code",
   "execution_count": 2,
   "id": "c0915c2c",
   "metadata": {},
   "outputs": [],
   "source": [
    "#Masukkan twitter token API\n",
    "api_key = \"GbIGEYyXJW8RtX0KBxtzjNFWb\"\n",
    "api_key_secret = \"q47qwDYnsI9I6LAbifsQq5xULG4gYmiaOXD6iZZIjdKeNLXPT5\"\n",
    "access_token = \"847732131132358656-yvElNA1Ml5KM19Khl3CMNiMkb7Knk1Y\"\n",
    "access_token_secret =\"17KXZyRBfXmDK8UfsMozBnt3RP2C5vA8Rt8vA5rFHoUHY\""
   ]
  },
  {
   "cell_type": "code",
   "execution_count": 3,
   "id": "d88b6a40",
   "metadata": {},
   "outputs": [],
   "source": [
    "# melakukan authentication atau registrasi api key ke api twitter\n",
    "auth = tw.OAuthHandler(api_key, api_key_secret)\n",
    "# Mendapat akses dari token yang didapat\n",
    "auth.set_access_token(access_token, access_token_secret)\n",
    "# memanggil API twitter\n",
    "api = tw.API(auth)"
   ]
  },
  {
   "cell_type": "code",
   "execution_count": 4,
   "id": "5235cfc3",
   "metadata": {},
   "outputs": [],
   "source": [
    "# Mulai crawling search tweet\n",
    "tweets = tw.Cursor(api.search_tweets, q=\"kapolri OR #kapolri OR #listyosigitprabowo OR #listyosigit -filter:retweets\",\n",
    "                      lang=\"id\", tweet_mode='extended').items(500)\n",
    "# Membuat list \n",
    "data_search =[]\n",
    "\n",
    "# melakukakn \n",
    "for teks in tweets:\n",
    "    #Membuat dict \n",
    "    teks_properties= {}\n",
    "    #Membuat properti tanggal, nama pengguna dan isi tweet yang telah dibersihkan\n",
    "    teks_properties[\"Tanggal\"]=teks.created_at\n",
    "    teks_properties[\"Pengguna\"]=teks.user.screen_name\n",
    "    teks_clean = ' '.join(re.sub(\"(@[A-Za-z0-9]+)|([^0-9A-Za-z \\t])|(\\w+:\\/\\/\\S+)\",\" \",teks.full_text).split())\n",
    "    teks_properties[\"Tweet\"]= teks_clean\n",
    "\n",
    "    #Menghilangkan retweet\n",
    "    if teks.retweet_count > 0:\n",
    "        if teks_properties not in data_search:\n",
    "            data_search.append(teks_properties)\n",
    "    else:\n",
    "        data_search.append(teks_properties)"
   ]
  },
  {
   "cell_type": "code",
   "execution_count": 15,
   "id": "83dbbd6e",
   "metadata": {},
   "outputs": [
    {
     "data": {
      "text/plain": [
       "0      12/12/2022 11:35\n",
       "1      12/12/2022 11:34\n",
       "2      12/12/2022 11:32\n",
       "3      12/12/2022 11:26\n",
       "4      12/12/2022 11:19\n",
       "             ...       \n",
       "495    10/12/2022 21:40\n",
       "496    10/12/2022 21:31\n",
       "497    10/12/2022 21:31\n",
       "498    10/12/2022 20:52\n",
       "499    10/12/2022 19:10\n",
       "Name: Tanggal, Length: 500, dtype: object"
      ]
     },
     "execution_count": 15,
     "metadata": {},
     "output_type": "execute_result"
    }
   ],
   "source": [
    "#Mengganti format tanggal\n",
    "tanggal = pd.to_datetime(df['Tanggal'])\n",
    "df['Tanggal'] = tanggal.dt.strftime('%d/%m/%Y %H:%M')\n",
    "df['Tanggal']"
   ]
  },
  {
   "cell_type": "code",
   "execution_count": 21,
   "id": "b0f062f2",
   "metadata": {},
   "outputs": [],
   "source": [
    "#Menyimpan hasil crawling data\n",
    "df.to_csv('D:/hasilSentimen/Data-hasil-crawling.csv')"
   ]
  }
 ],
 "metadata": {
  "kernelspec": {
   "display_name": "Python 3 (ipykernel)",
   "language": "python",
   "name": "python3"
  },
  "language_info": {
   "codemirror_mode": {
    "name": "ipython",
    "version": 3
   },
   "file_extension": ".py",
   "mimetype": "text/x-python",
   "name": "python",
   "nbconvert_exporter": "python",
   "pygments_lexer": "ipython3",
   "version": "3.9.7"
  }
 },
 "nbformat": 4,
 "nbformat_minor": 5
}
